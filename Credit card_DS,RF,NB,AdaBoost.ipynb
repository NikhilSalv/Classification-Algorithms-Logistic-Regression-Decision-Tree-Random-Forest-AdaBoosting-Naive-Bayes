{
 "cells": [
  {
   "cell_type": "code",
   "execution_count": 1,
   "metadata": {},
   "outputs": [],
   "source": [
    "import pandas as pd\n",
    "cr = pd.read_csv(\"E:\\DATA scientist\\R\\Creditcard\\CreditRisk.csv\")"
   ]
  },
  {
   "cell_type": "code",
   "execution_count": 2,
   "metadata": {},
   "outputs": [],
   "source": [
    "cr.Self_Employed = cr.Self_Employed.fillna( \"Yes\")\n",
    "cr.Married.fillna(\"Yes\" , inplace= True)\n",
    "cr.Gender = cr.Gender.fillna(\"Male\")\n",
    "cr.Dependents = cr.Dependents.fillna(0)\n",
    "cr.LoanAmount  = cr.LoanAmount.fillna(  cr.LoanAmount.mean()   )\n",
    "cr.Loan_Amount_Term  =cr.Loan_Amount_Term.fillna(cr.Loan_Amount_Term.mean())\n",
    "cr.Credit_History  = cr.Credit_History.fillna( 0)"
   ]
  },
  {
   "cell_type": "code",
   "execution_count": 3,
   "metadata": {
    "scrolled": true
   },
   "outputs": [
    {
     "data": {
      "text/plain": [
       "Loan_ID              0\n",
       "Gender               0\n",
       "Married              0\n",
       "Dependents           0\n",
       "Education            0\n",
       "Self_Employed        0\n",
       "ApplicantIncome      0\n",
       "CoapplicantIncome    0\n",
       "LoanAmount           0\n",
       "Loan_Amount_Term     0\n",
       "Credit_History       0\n",
       "Property_Area        0\n",
       "Loan_Status          0\n",
       "dtype: int64"
      ]
     },
     "execution_count": 3,
     "metadata": {},
     "output_type": "execute_result"
    }
   ],
   "source": [
    "cr.isnull().sum()"
   ]
  },
  {
   "cell_type": "code",
   "execution_count": 4,
   "metadata": {},
   "outputs": [],
   "source": [
    "cr = cr.drop([\"Loan_ID\"] , axis = 1)"
   ]
  },
  {
   "cell_type": "code",
   "execution_count": 5,
   "metadata": {},
   "outputs": [
    {
     "data": {
      "text/html": [
       "<div>\n",
       "<style scoped>\n",
       "    .dataframe tbody tr th:only-of-type {\n",
       "        vertical-align: middle;\n",
       "    }\n",
       "\n",
       "    .dataframe tbody tr th {\n",
       "        vertical-align: top;\n",
       "    }\n",
       "\n",
       "    .dataframe thead th {\n",
       "        text-align: right;\n",
       "    }\n",
       "</style>\n",
       "<table border=\"1\" class=\"dataframe\">\n",
       "  <thead>\n",
       "    <tr style=\"text-align: right;\">\n",
       "      <th></th>\n",
       "      <th>Gender</th>\n",
       "      <th>Married</th>\n",
       "      <th>Dependents</th>\n",
       "      <th>Education</th>\n",
       "      <th>Self_Employed</th>\n",
       "      <th>ApplicantIncome</th>\n",
       "      <th>CoapplicantIncome</th>\n",
       "      <th>LoanAmount</th>\n",
       "      <th>Loan_Amount_Term</th>\n",
       "      <th>Credit_History</th>\n",
       "      <th>Property_Area</th>\n",
       "      <th>Loan_Status</th>\n",
       "    </tr>\n",
       "  </thead>\n",
       "  <tbody>\n",
       "    <tr>\n",
       "      <th>0</th>\n",
       "      <td>Male</td>\n",
       "      <td>No</td>\n",
       "      <td>0.0</td>\n",
       "      <td>Graduate</td>\n",
       "      <td>No</td>\n",
       "      <td>5849</td>\n",
       "      <td>0.0</td>\n",
       "      <td>142.51153</td>\n",
       "      <td>360.0</td>\n",
       "      <td>1.0</td>\n",
       "      <td>Urban</td>\n",
       "      <td>Y</td>\n",
       "    </tr>\n",
       "    <tr>\n",
       "      <th>1</th>\n",
       "      <td>Male</td>\n",
       "      <td>Yes</td>\n",
       "      <td>1.0</td>\n",
       "      <td>Graduate</td>\n",
       "      <td>No</td>\n",
       "      <td>4583</td>\n",
       "      <td>1508.0</td>\n",
       "      <td>128.00000</td>\n",
       "      <td>360.0</td>\n",
       "      <td>1.0</td>\n",
       "      <td>Rural</td>\n",
       "      <td>N</td>\n",
       "    </tr>\n",
       "    <tr>\n",
       "      <th>2</th>\n",
       "      <td>Male</td>\n",
       "      <td>Yes</td>\n",
       "      <td>0.0</td>\n",
       "      <td>Graduate</td>\n",
       "      <td>Yes</td>\n",
       "      <td>3000</td>\n",
       "      <td>0.0</td>\n",
       "      <td>66.00000</td>\n",
       "      <td>360.0</td>\n",
       "      <td>1.0</td>\n",
       "      <td>Urban</td>\n",
       "      <td>Y</td>\n",
       "    </tr>\n",
       "    <tr>\n",
       "      <th>3</th>\n",
       "      <td>Male</td>\n",
       "      <td>Yes</td>\n",
       "      <td>0.0</td>\n",
       "      <td>Not Graduate</td>\n",
       "      <td>No</td>\n",
       "      <td>2583</td>\n",
       "      <td>2358.0</td>\n",
       "      <td>120.00000</td>\n",
       "      <td>360.0</td>\n",
       "      <td>1.0</td>\n",
       "      <td>Urban</td>\n",
       "      <td>Y</td>\n",
       "    </tr>\n",
       "    <tr>\n",
       "      <th>4</th>\n",
       "      <td>Male</td>\n",
       "      <td>No</td>\n",
       "      <td>0.0</td>\n",
       "      <td>Graduate</td>\n",
       "      <td>No</td>\n",
       "      <td>6000</td>\n",
       "      <td>0.0</td>\n",
       "      <td>141.00000</td>\n",
       "      <td>360.0</td>\n",
       "      <td>1.0</td>\n",
       "      <td>Urban</td>\n",
       "      <td>Y</td>\n",
       "    </tr>\n",
       "  </tbody>\n",
       "</table>\n",
       "</div>"
      ],
      "text/plain": [
       "  Gender Married  Dependents     Education Self_Employed  ApplicantIncome  \\\n",
       "0   Male      No         0.0      Graduate            No             5849   \n",
       "1   Male     Yes         1.0      Graduate            No             4583   \n",
       "2   Male     Yes         0.0      Graduate           Yes             3000   \n",
       "3   Male     Yes         0.0  Not Graduate            No             2583   \n",
       "4   Male      No         0.0      Graduate            No             6000   \n",
       "\n",
       "   CoapplicantIncome  LoanAmount  Loan_Amount_Term  Credit_History  \\\n",
       "0                0.0   142.51153             360.0             1.0   \n",
       "1             1508.0   128.00000             360.0             1.0   \n",
       "2                0.0    66.00000             360.0             1.0   \n",
       "3             2358.0   120.00000             360.0             1.0   \n",
       "4                0.0   141.00000             360.0             1.0   \n",
       "\n",
       "  Property_Area Loan_Status  \n",
       "0         Urban           Y  \n",
       "1         Rural           N  \n",
       "2         Urban           Y  \n",
       "3         Urban           Y  \n",
       "4         Urban           Y  "
      ]
     },
     "execution_count": 5,
     "metadata": {},
     "output_type": "execute_result"
    }
   ],
   "source": [
    "cr.head(5)"
   ]
  },
  {
   "cell_type": "code",
   "execution_count": 6,
   "metadata": {},
   "outputs": [],
   "source": [
    "from sklearn.preprocessing import LabelEncoder\n",
    "le = LabelEncoder()"
   ]
  },
  {
   "cell_type": "code",
   "execution_count": 7,
   "metadata": {},
   "outputs": [],
   "source": [
    "cr[cr.select_dtypes(include = [\"object\"]).columns] = cr[cr.select_dtypes(include = [\"object\"]).columns].apply(le.fit_transform)"
   ]
  },
  {
   "cell_type": "code",
   "execution_count": 8,
   "metadata": {},
   "outputs": [
    {
     "data": {
      "text/html": [
       "<div>\n",
       "<style scoped>\n",
       "    .dataframe tbody tr th:only-of-type {\n",
       "        vertical-align: middle;\n",
       "    }\n",
       "\n",
       "    .dataframe tbody tr th {\n",
       "        vertical-align: top;\n",
       "    }\n",
       "\n",
       "    .dataframe thead th {\n",
       "        text-align: right;\n",
       "    }\n",
       "</style>\n",
       "<table border=\"1\" class=\"dataframe\">\n",
       "  <thead>\n",
       "    <tr style=\"text-align: right;\">\n",
       "      <th></th>\n",
       "      <th>Gender</th>\n",
       "      <th>Married</th>\n",
       "      <th>Dependents</th>\n",
       "      <th>Education</th>\n",
       "      <th>Self_Employed</th>\n",
       "      <th>ApplicantIncome</th>\n",
       "      <th>CoapplicantIncome</th>\n",
       "      <th>LoanAmount</th>\n",
       "      <th>Loan_Amount_Term</th>\n",
       "      <th>Credit_History</th>\n",
       "      <th>Property_Area</th>\n",
       "      <th>Loan_Status</th>\n",
       "    </tr>\n",
       "  </thead>\n",
       "  <tbody>\n",
       "    <tr>\n",
       "      <th>0</th>\n",
       "      <td>1</td>\n",
       "      <td>0</td>\n",
       "      <td>0.0</td>\n",
       "      <td>0</td>\n",
       "      <td>0</td>\n",
       "      <td>5849</td>\n",
       "      <td>0.0</td>\n",
       "      <td>142.51153</td>\n",
       "      <td>360.0</td>\n",
       "      <td>1.0</td>\n",
       "      <td>2</td>\n",
       "      <td>1</td>\n",
       "    </tr>\n",
       "    <tr>\n",
       "      <th>1</th>\n",
       "      <td>1</td>\n",
       "      <td>1</td>\n",
       "      <td>1.0</td>\n",
       "      <td>0</td>\n",
       "      <td>0</td>\n",
       "      <td>4583</td>\n",
       "      <td>1508.0</td>\n",
       "      <td>128.00000</td>\n",
       "      <td>360.0</td>\n",
       "      <td>1.0</td>\n",
       "      <td>0</td>\n",
       "      <td>0</td>\n",
       "    </tr>\n",
       "    <tr>\n",
       "      <th>2</th>\n",
       "      <td>1</td>\n",
       "      <td>1</td>\n",
       "      <td>0.0</td>\n",
       "      <td>0</td>\n",
       "      <td>1</td>\n",
       "      <td>3000</td>\n",
       "      <td>0.0</td>\n",
       "      <td>66.00000</td>\n",
       "      <td>360.0</td>\n",
       "      <td>1.0</td>\n",
       "      <td>2</td>\n",
       "      <td>1</td>\n",
       "    </tr>\n",
       "    <tr>\n",
       "      <th>3</th>\n",
       "      <td>1</td>\n",
       "      <td>1</td>\n",
       "      <td>0.0</td>\n",
       "      <td>1</td>\n",
       "      <td>0</td>\n",
       "      <td>2583</td>\n",
       "      <td>2358.0</td>\n",
       "      <td>120.00000</td>\n",
       "      <td>360.0</td>\n",
       "      <td>1.0</td>\n",
       "      <td>2</td>\n",
       "      <td>1</td>\n",
       "    </tr>\n",
       "    <tr>\n",
       "      <th>4</th>\n",
       "      <td>1</td>\n",
       "      <td>0</td>\n",
       "      <td>0.0</td>\n",
       "      <td>0</td>\n",
       "      <td>0</td>\n",
       "      <td>6000</td>\n",
       "      <td>0.0</td>\n",
       "      <td>141.00000</td>\n",
       "      <td>360.0</td>\n",
       "      <td>1.0</td>\n",
       "      <td>2</td>\n",
       "      <td>1</td>\n",
       "    </tr>\n",
       "  </tbody>\n",
       "</table>\n",
       "</div>"
      ],
      "text/plain": [
       "   Gender  Married  Dependents  Education  Self_Employed  ApplicantIncome  \\\n",
       "0       1        0         0.0          0              0             5849   \n",
       "1       1        1         1.0          0              0             4583   \n",
       "2       1        1         0.0          0              1             3000   \n",
       "3       1        1         0.0          1              0             2583   \n",
       "4       1        0         0.0          0              0             6000   \n",
       "\n",
       "   CoapplicantIncome  LoanAmount  Loan_Amount_Term  Credit_History  \\\n",
       "0                0.0   142.51153             360.0             1.0   \n",
       "1             1508.0   128.00000             360.0             1.0   \n",
       "2                0.0    66.00000             360.0             1.0   \n",
       "3             2358.0   120.00000             360.0             1.0   \n",
       "4                0.0   141.00000             360.0             1.0   \n",
       "\n",
       "   Property_Area  Loan_Status  \n",
       "0              2            1  \n",
       "1              0            0  \n",
       "2              2            1  \n",
       "3              2            1  \n",
       "4              2            1  "
      ]
     },
     "execution_count": 8,
     "metadata": {},
     "output_type": "execute_result"
    }
   ],
   "source": [
    "cr.head(5)"
   ]
  },
  {
   "cell_type": "code",
   "execution_count": 10,
   "metadata": {},
   "outputs": [
    {
     "name": "stderr",
     "output_type": "stream",
     "text": [
      "<ipython-input-10-262ef4363961>:1: UserWarning: Pandas doesn't allow columns to be created via a new attribute name - see https://pandas.pydata.org/pandas-docs/stable/indexing.html#attribute-access\n",
      "  cr.x = cr.iloc[:,1:-1]\n",
      "<ipython-input-10-262ef4363961>:2: UserWarning: Pandas doesn't allow columns to be created via a new attribute name - see https://pandas.pydata.org/pandas-docs/stable/indexing.html#attribute-access\n",
      "  cr.y = cr.iloc[:,-1]\n"
     ]
    }
   ],
   "source": [
    "cr.x = cr.iloc[:,1:-1]\n",
    "cr.y = cr.iloc[:,-1]"
   ]
  },
  {
   "cell_type": "code",
   "execution_count": 11,
   "metadata": {},
   "outputs": [
    {
     "name": "stderr",
     "output_type": "stream",
     "text": [
      "<ipython-input-11-d29d2e127533>:2: UserWarning: Pandas doesn't allow columns to be created via a new attribute name - see https://pandas.pydata.org/pandas-docs/stable/indexing.html#attribute-access\n",
      "  cr.x_train, cr.x_test, cr.y_train, cr.y_test = train_test_split(cr.x,cr.y,test_size = 0.2)\n"
     ]
    }
   ],
   "source": [
    "from sklearn.model_selection import train_test_split\n",
    "cr.x_train, cr.x_test, cr.y_train, cr.y_test = train_test_split(cr.x,cr.y,test_size = 0.2)"
   ]
  },
  {
   "cell_type": "code",
   "execution_count": 12,
   "metadata": {},
   "outputs": [],
   "source": [
    "from sklearn.linear_model import LogisticRegression\n",
    "LogReg = LogisticRegression()"
   ]
  },
  {
   "cell_type": "code",
   "execution_count": 13,
   "metadata": {},
   "outputs": [
    {
     "name": "stderr",
     "output_type": "stream",
     "text": [
      "C:\\Users\\NIKIL\\anaconda3\\lib\\site-packages\\sklearn\\linear_model\\_logistic.py:762: ConvergenceWarning: lbfgs failed to converge (status=1):\n",
      "STOP: TOTAL NO. of ITERATIONS REACHED LIMIT.\n",
      "\n",
      "Increase the number of iterations (max_iter) or scale the data as shown in:\n",
      "    https://scikit-learn.org/stable/modules/preprocessing.html\n",
      "Please also refer to the documentation for alternative solver options:\n",
      "    https://scikit-learn.org/stable/modules/linear_model.html#logistic-regression\n",
      "  n_iter_i = _check_optimize_result(\n"
     ]
    },
    {
     "data": {
      "text/plain": [
       "LogisticRegression()"
      ]
     },
     "execution_count": 13,
     "metadata": {},
     "output_type": "execute_result"
    }
   ],
   "source": [
    "LogReg.fit(cr.x_train,cr.y_train)"
   ]
  },
  {
   "cell_type": "code",
   "execution_count": 14,
   "metadata": {},
   "outputs": [
    {
     "data": {
      "text/plain": [
       "(197,)"
      ]
     },
     "execution_count": 14,
     "metadata": {},
     "output_type": "execute_result"
    }
   ],
   "source": [
    "pred_value  = LogReg.predict(cr.x_test )\n",
    "pred_value.shape"
   ]
  },
  {
   "cell_type": "code",
   "execution_count": 15,
   "metadata": {},
   "outputs": [
    {
     "data": {
      "text/plain": [
       "array([[ 26,  17],\n",
       "       [ 31, 123]], dtype=int64)"
      ]
     },
     "execution_count": 15,
     "metadata": {},
     "output_type": "execute_result"
    }
   ],
   "source": [
    "from sklearn.metrics import confusion_matrix\n",
    "tab1 = confusion_matrix(pred_value, cr.y_test)\n",
    "tab1"
   ]
  },
  {
   "cell_type": "code",
   "execution_count": 16,
   "metadata": {},
   "outputs": [
    {
     "data": {
      "text/plain": [
       "75.63451776649747"
      ]
     },
     "execution_count": 16,
     "metadata": {},
     "output_type": "execute_result"
    }
   ],
   "source": [
    "tab1.diagonal().sum()*100 / tab1.sum()"
   ]
  },
  {
   "cell_type": "code",
   "execution_count": 17,
   "metadata": {},
   "outputs": [
    {
     "data": {
      "text/plain": [
       "0.7563451776649747"
      ]
     },
     "execution_count": 17,
     "metadata": {},
     "output_type": "execute_result"
    }
   ],
   "source": [
    "from sklearn.metrics import accuracy_score\n",
    "accuracy_score(pred_value, cr.y_test)"
   ]
  },
  {
   "cell_type": "code",
   "execution_count": 18,
   "metadata": {},
   "outputs": [
    {
     "data": {
      "text/plain": [
       "0.8785714285714286"
      ]
     },
     "execution_count": 18,
     "metadata": {},
     "output_type": "execute_result"
    }
   ],
   "source": [
    "Tpr = tab1[1,1] / (tab1[1,1] + tab1[0,1])\n",
    "Tpr"
   ]
  },
  {
   "cell_type": "code",
   "execution_count": 19,
   "metadata": {},
   "outputs": [
    {
     "data": {
      "text/plain": [
       "array([0.23211412])"
      ]
     },
     "execution_count": 19,
     "metadata": {},
     "output_type": "execute_result"
    }
   ],
   "source": [
    "LogReg.intercept_"
   ]
  },
  {
   "cell_type": "code",
   "execution_count": 20,
   "metadata": {},
   "outputs": [
    {
     "data": {
      "text/plain": [
       "array([[0.16416468, 0.83583532],\n",
       "       [0.09964139, 0.90035861],\n",
       "       [0.10905224, 0.89094776],\n",
       "       [0.12625552, 0.87374448],\n",
       "       [0.09982169, 0.90017831],\n",
       "       [0.72008418, 0.27991582],\n",
       "       [0.11674068, 0.88325932],\n",
       "       [0.31336701, 0.68663299],\n",
       "       [0.24821251, 0.75178749],\n",
       "       [0.1892501 , 0.8107499 ],\n",
       "       [0.12653519, 0.87346481],\n",
       "       [0.23314124, 0.76685876],\n",
       "       [0.81211737, 0.18788263],\n",
       "       [0.12843574, 0.87156426],\n",
       "       [0.13474753, 0.86525247],\n",
       "       [0.50933836, 0.49066164],\n",
       "       [0.18379691, 0.81620309],\n",
       "       [0.10727898, 0.89272102],\n",
       "       [0.06586562, 0.93413438],\n",
       "       [0.17597338, 0.82402662],\n",
       "       [0.18188233, 0.81811767],\n",
       "       [0.18108697, 0.81891303],\n",
       "       [0.08343651, 0.91656349],\n",
       "       [0.15279519, 0.84720481],\n",
       "       [0.14513341, 0.85486659],\n",
       "       [0.13867848, 0.86132152],\n",
       "       [0.18687768, 0.81312232],\n",
       "       [0.36675705, 0.63324295],\n",
       "       [0.20545837, 0.79454163],\n",
       "       [0.15829642, 0.84170358],\n",
       "       [0.13891335, 0.86108665],\n",
       "       [0.24671549, 0.75328451],\n",
       "       [0.08159406, 0.91840594],\n",
       "       [0.08239346, 0.91760654],\n",
       "       [0.64743245, 0.35256755],\n",
       "       [0.17654492, 0.82345508],\n",
       "       [0.16459879, 0.83540121],\n",
       "       [0.13046465, 0.86953535],\n",
       "       [0.13479065, 0.86520935],\n",
       "       [0.05894987, 0.94105013],\n",
       "       [0.10337301, 0.89662699],\n",
       "       [0.18672171, 0.81327829],\n",
       "       [0.13525103, 0.86474897],\n",
       "       [0.75724496, 0.24275504],\n",
       "       [0.14014432, 0.85985568],\n",
       "       [0.08868011, 0.91131989],\n",
       "       [0.10892597, 0.89107403],\n",
       "       [0.26263391, 0.73736609],\n",
       "       [0.16209868, 0.83790132],\n",
       "       [0.81053142, 0.18946858],\n",
       "       [0.09317201, 0.90682799],\n",
       "       [0.08662642, 0.91337358],\n",
       "       [0.1782545 , 0.8217455 ],\n",
       "       [0.64679709, 0.35320291],\n",
       "       [0.1179832 , 0.8820168 ],\n",
       "       [0.16367668, 0.83632332],\n",
       "       [0.20130204, 0.79869796],\n",
       "       [0.21188468, 0.78811532],\n",
       "       [0.61362014, 0.38637986],\n",
       "       [0.18712303, 0.81287697],\n",
       "       [0.14921338, 0.85078662],\n",
       "       [0.18187258, 0.81812742],\n",
       "       [0.07730628, 0.92269372],\n",
       "       [0.05583308, 0.94416692],\n",
       "       [0.0415488 , 0.9584512 ],\n",
       "       [0.18688019, 0.81311981],\n",
       "       [0.11133739, 0.88866261],\n",
       "       [0.53979839, 0.46020161],\n",
       "       [0.06455461, 0.93544539],\n",
       "       [0.17366799, 0.82633201],\n",
       "       [0.09067453, 0.90932547],\n",
       "       [0.15479377, 0.84520623],\n",
       "       [0.08326536, 0.91673464],\n",
       "       [0.75830796, 0.24169204],\n",
       "       [0.27280508, 0.72719492],\n",
       "       [0.21846653, 0.78153347],\n",
       "       [0.60581599, 0.39418401],\n",
       "       [0.17785715, 0.82214285],\n",
       "       [0.11777482, 0.88222518],\n",
       "       [0.71288899, 0.28711101],\n",
       "       [0.51871898, 0.48128102],\n",
       "       [0.82406549, 0.17593451],\n",
       "       [0.2497743 , 0.7502257 ],\n",
       "       [0.09005829, 0.90994171],\n",
       "       [0.83198097, 0.16801903],\n",
       "       [0.08987271, 0.91012729],\n",
       "       [0.20413908, 0.79586092],\n",
       "       [0.68027531, 0.31972469],\n",
       "       [0.16274543, 0.83725457],\n",
       "       [0.13454354, 0.86545646],\n",
       "       [0.27923894, 0.72076106],\n",
       "       [0.65484266, 0.34515734],\n",
       "       [0.10714991, 0.89285009],\n",
       "       [0.13788245, 0.86211755],\n",
       "       [0.73406396, 0.26593604],\n",
       "       [0.23662023, 0.76337977],\n",
       "       [0.2691419 , 0.7308581 ],\n",
       "       [0.0781435 , 0.9218565 ],\n",
       "       [0.11556766, 0.88443234],\n",
       "       [0.22001538, 0.77998462],\n",
       "       [0.52574455, 0.47425545],\n",
       "       [0.32300811, 0.67699189],\n",
       "       [0.64360468, 0.35639532],\n",
       "       [0.10639275, 0.89360725],\n",
       "       [0.12777089, 0.87222911],\n",
       "       [0.19505132, 0.80494868],\n",
       "       [0.04469628, 0.95530372],\n",
       "       [0.248406  , 0.751594  ],\n",
       "       [0.20919068, 0.79080932],\n",
       "       [0.20700715, 0.79299285],\n",
       "       [0.75147102, 0.24852898],\n",
       "       [0.75696391, 0.24303609],\n",
       "       [0.07245232, 0.92754768],\n",
       "       [0.19039377, 0.80960623],\n",
       "       [0.25159556, 0.74840444],\n",
       "       [0.74667169, 0.25332831],\n",
       "       [0.61377012, 0.38622988],\n",
       "       [0.78502833, 0.21497167],\n",
       "       [0.36906974, 0.63093026],\n",
       "       [0.13188091, 0.86811909],\n",
       "       [0.0903395 , 0.9096605 ],\n",
       "       [0.50193519, 0.49806481],\n",
       "       [0.76580079, 0.23419921],\n",
       "       [0.11811141, 0.88188859],\n",
       "       [0.09939643, 0.90060357],\n",
       "       [0.5086012 , 0.4913988 ],\n",
       "       [0.66116574, 0.33883426],\n",
       "       [0.1843022 , 0.8156978 ],\n",
       "       [0.1168891 , 0.8831109 ],\n",
       "       [0.16465344, 0.83534656],\n",
       "       [0.24060628, 0.75939372],\n",
       "       [0.69660971, 0.30339029],\n",
       "       [0.08595847, 0.91404153],\n",
       "       [0.71265422, 0.28734578],\n",
       "       [0.08347831, 0.91652169],\n",
       "       [0.24471854, 0.75528146],\n",
       "       [0.12762047, 0.87237953],\n",
       "       [0.13094478, 0.86905522],\n",
       "       [0.76581975, 0.23418025],\n",
       "       [0.13817725, 0.86182275],\n",
       "       [0.1204505 , 0.8795495 ],\n",
       "       [0.06494952, 0.93505048],\n",
       "       [0.46883516, 0.53116484],\n",
       "       [0.08859487, 0.91140513],\n",
       "       [0.08899833, 0.91100167],\n",
       "       [0.5692523 , 0.4307477 ],\n",
       "       [0.13521188, 0.86478812],\n",
       "       [0.11775717, 0.88224283],\n",
       "       [0.61424799, 0.38575201],\n",
       "       [0.782025  , 0.217975  ],\n",
       "       [0.05858038, 0.94141962],\n",
       "       [0.05228231, 0.94771769],\n",
       "       [0.25780374, 0.74219626],\n",
       "       [0.11479141, 0.88520859],\n",
       "       [0.2107886 , 0.7892114 ],\n",
       "       [0.08561742, 0.91438258],\n",
       "       [0.76273673, 0.23726327],\n",
       "       [0.0828463 , 0.9171537 ],\n",
       "       [0.26967163, 0.73032837],\n",
       "       [0.62623314, 0.37376686],\n",
       "       [0.1700301 , 0.8299699 ],\n",
       "       [0.05518535, 0.94481465],\n",
       "       [0.14429908, 0.85570092],\n",
       "       [0.13819872, 0.86180128],\n",
       "       [0.13580144, 0.86419856],\n",
       "       [0.81373403, 0.18626597],\n",
       "       [0.366353  , 0.633647  ],\n",
       "       [0.12815459, 0.87184541],\n",
       "       [0.16601229, 0.83398771],\n",
       "       [0.19196525, 0.80803475],\n",
       "       [0.17483419, 0.82516581],\n",
       "       [0.14393376, 0.85606624],\n",
       "       [0.117725  , 0.882275  ],\n",
       "       [0.09601982, 0.90398018],\n",
       "       [0.14186488, 0.85813512],\n",
       "       [0.78838116, 0.21161884],\n",
       "       [0.09454439, 0.90545561],\n",
       "       [0.16601638, 0.83398362],\n",
       "       [0.12115323, 0.87884677],\n",
       "       [0.10408577, 0.89591423],\n",
       "       [0.17377085, 0.82622915],\n",
       "       [0.21472249, 0.78527751],\n",
       "       [0.17957388, 0.82042612],\n",
       "       [0.18270142, 0.81729858],\n",
       "       [0.69955064, 0.30044936],\n",
       "       [0.10655958, 0.89344042],\n",
       "       [0.08203837, 0.91796163],\n",
       "       [0.1169739 , 0.8830261 ],\n",
       "       [0.05018844, 0.94981156],\n",
       "       [0.16874511, 0.83125489],\n",
       "       [0.14426293, 0.85573707],\n",
       "       [0.72972588, 0.27027412],\n",
       "       [0.0695545 , 0.9304455 ],\n",
       "       [0.08040853, 0.91959147],\n",
       "       [0.67225446, 0.32774554],\n",
       "       [0.09619412, 0.90380588],\n",
       "       [0.57280506, 0.42719494]])"
      ]
     },
     "execution_count": 20,
     "metadata": {},
     "output_type": "execute_result"
    }
   ],
   "source": [
    "pred_prob = LogReg.predict_proba(cr.x_test)\n",
    "pred_prob"
   ]
  },
  {
   "cell_type": "code",
   "execution_count": 21,
   "metadata": {},
   "outputs": [
    {
     "data": {
      "text/plain": [
       "0.6673558897243108"
      ]
     },
     "execution_count": 21,
     "metadata": {},
     "output_type": "execute_result"
    }
   ],
   "source": [
    "from sklearn.metrics import roc_auc_score\n",
    "log_roc_score = roc_auc_score(cr.y_test, pred_value)\n",
    "log_roc_score"
   ]
  },
  {
   "cell_type": "code",
   "execution_count": 22,
   "metadata": {},
   "outputs": [],
   "source": [
    "pred_value_prob = pd.DataFrame(pred_prob)"
   ]
  },
  {
   "cell_type": "code",
   "execution_count": 23,
   "metadata": {},
   "outputs": [],
   "source": [
    "pred_value_prob = pred_value_prob.iloc[:,1]\n"
   ]
  },
  {
   "cell_type": "code",
   "execution_count": 24,
   "metadata": {},
   "outputs": [],
   "source": [
    "from sklearn.metrics import roc_curve\n",
    "fpr,tpr, Threshold = roc_curve(cr.y_test,pred_value_prob)"
   ]
  },
  {
   "cell_type": "code",
   "execution_count": 25,
   "metadata": {},
   "outputs": [
    {
     "data": {
      "text/plain": [
       "Text(0.5, 0.5, 'AUROC IS 0.7128')"
      ]
     },
     "execution_count": 25,
     "metadata": {},
     "output_type": "execute_result"
    },
    {
     "data": {
      "image/png": "[encoded data removed]",
      "text/plain": [
       "<Figure size 432x288 with 1 Axes>"
      ]
     },
     "metadata": {
      "needs_background": "light"
     },
     "output_type": "display_data"
    }
   ],
   "source": [
    "import matplotlib.pyplot as plt\n",
    "plt.plot(fpr,tpr)\n",
    "plt.xlabel(\"FPR\")\n",
    "plt.ylabel(\"TPR\")\n",
    "plt.title(\"AUROC CURVE\")\n",
    "plt.text(x= 0.5, y = 0.5, s= \"AUROC IS 0.7128\")"
   ]
  },
  {
   "cell_type": "code",
   "execution_count": 26,
   "metadata": {},
   "outputs": [
    {
     "data": {
      "text/plain": [
       "DecisionTreeClassifier(min_samples_split=50)"
      ]
     },
     "execution_count": 26,
     "metadata": {},
     "output_type": "execute_result"
    }
   ],
   "source": [
    "from sklearn.tree import DecisionTreeClassifier\n",
    "dt = DecisionTreeClassifier(min_samples_split=50)\n",
    "dt.fit(cr.x_train,cr.y_train)"
   ]
  },
  {
   "cell_type": "code",
   "execution_count": 27,
   "metadata": {},
   "outputs": [
    {
     "data": {
      "text/plain": [
       "array([[ 30,  25],\n",
       "       [ 27, 115]], dtype=int64)"
      ]
     },
     "execution_count": 27,
     "metadata": {},
     "output_type": "execute_result"
    }
   ],
   "source": [
    "dt_pred_test =dt.predict(cr.x_test)\n",
    "tab2 = confusion_matrix(dt_pred_test,cr.y_test)\n",
    "tab2"
   ]
  },
  {
   "cell_type": "code",
   "execution_count": 28,
   "metadata": {},
   "outputs": [
    {
     "data": {
      "text/plain": [
       "73.60406091370558"
      ]
     },
     "execution_count": 28,
     "metadata": {},
     "output_type": "execute_result"
    }
   ],
   "source": [
    "dt_accuracy = tab2.diagonal().sum() * 100 / tab2.sum()\n",
    "dt_accuracy"
   ]
  },
  {
   "cell_type": "code",
   "execution_count": 29,
   "metadata": {},
   "outputs": [
    {
     "data": {
      "text/plain": [
       "array([0.00532312, 0.00806224, 0.        , 0.        , 0.16463114,\n",
       "       0.07478723, 0.0728337 , 0.038295  , 0.61563467, 0.02043289])"
      ]
     },
     "execution_count": 29,
     "metadata": {},
     "output_type": "execute_result"
    }
   ],
   "source": [
    "dt.feature_importances_"
   ]
  },
  {
   "cell_type": "code",
   "execution_count": 30,
   "metadata": {},
   "outputs": [
    {
     "data": {
      "text/html": [
       "<div>\n",
       "<style scoped>\n",
       "    .dataframe tbody tr th:only-of-type {\n",
       "        vertical-align: middle;\n",
       "    }\n",
       "\n",
       "    .dataframe tbody tr th {\n",
       "        vertical-align: top;\n",
       "    }\n",
       "\n",
       "    .dataframe thead th {\n",
       "        text-align: right;\n",
       "    }\n",
       "</style>\n",
       "<table border=\"1\" class=\"dataframe\">\n",
       "  <thead>\n",
       "    <tr style=\"text-align: right;\">\n",
       "      <th></th>\n",
       "      <th>Features</th>\n",
       "      <th>Importance</th>\n",
       "    </tr>\n",
       "  </thead>\n",
       "  <tbody>\n",
       "    <tr>\n",
       "      <th>8</th>\n",
       "      <td>Credit_History</td>\n",
       "      <td>0.615635</td>\n",
       "    </tr>\n",
       "    <tr>\n",
       "      <th>4</th>\n",
       "      <td>ApplicantIncome</td>\n",
       "      <td>0.164631</td>\n",
       "    </tr>\n",
       "    <tr>\n",
       "      <th>5</th>\n",
       "      <td>CoapplicantIncome</td>\n",
       "      <td>0.074787</td>\n",
       "    </tr>\n",
       "    <tr>\n",
       "      <th>6</th>\n",
       "      <td>LoanAmount</td>\n",
       "      <td>0.072834</td>\n",
       "    </tr>\n",
       "    <tr>\n",
       "      <th>7</th>\n",
       "      <td>Loan_Amount_Term</td>\n",
       "      <td>0.038295</td>\n",
       "    </tr>\n",
       "    <tr>\n",
       "      <th>9</th>\n",
       "      <td>Property_Area</td>\n",
       "      <td>0.020433</td>\n",
       "    </tr>\n",
       "    <tr>\n",
       "      <th>1</th>\n",
       "      <td>Dependents</td>\n",
       "      <td>0.008062</td>\n",
       "    </tr>\n",
       "    <tr>\n",
       "      <th>0</th>\n",
       "      <td>Married</td>\n",
       "      <td>0.005323</td>\n",
       "    </tr>\n",
       "    <tr>\n",
       "      <th>2</th>\n",
       "      <td>Education</td>\n",
       "      <td>0.000000</td>\n",
       "    </tr>\n",
       "    <tr>\n",
       "      <th>3</th>\n",
       "      <td>Self_Employed</td>\n",
       "      <td>0.000000</td>\n",
       "    </tr>\n",
       "  </tbody>\n",
       "</table>\n",
       "</div>"
      ],
      "text/plain": [
       "            Features  Importance\n",
       "8     Credit_History    0.615635\n",
       "4    ApplicantIncome    0.164631\n",
       "5  CoapplicantIncome    0.074787\n",
       "6         LoanAmount    0.072834\n",
       "7   Loan_Amount_Term    0.038295\n",
       "9      Property_Area    0.020433\n",
       "1         Dependents    0.008062\n",
       "0            Married    0.005323\n",
       "2          Education    0.000000\n",
       "3      Self_Employed    0.000000"
      ]
     },
     "execution_count": 30,
     "metadata": {},
     "output_type": "execute_result"
    }
   ],
   "source": [
    "imp_features = pd.DataFrame({\"Features\" : cr.x_test.columns,\"Importance\": dt.feature_importances_})\n",
    "imp_features.sort_values(\"Importance\", ascending = False )"
   ]
  },
  {
   "cell_type": "code",
   "execution_count": 31,
   "metadata": {},
   "outputs": [],
   "source": [
    "# Random Forest"
   ]
  },
  {
   "cell_type": "code",
   "execution_count": 32,
   "metadata": {},
   "outputs": [],
   "source": [
    "from sklearn.ensemble import RandomForestClassifier \n",
    "rfc = RandomForestClassifier(n_estimators= 500)"
   ]
  },
  {
   "cell_type": "code",
   "execution_count": 33,
   "metadata": {},
   "outputs": [],
   "source": [
    "rfc.fit(cr.x_train,cr.y_train)\n",
    "pred_rfc = rfc.predict(cr.x_test)"
   ]
  },
  {
   "cell_type": "code",
   "execution_count": 34,
   "metadata": {},
   "outputs": [
    {
     "data": {
      "text/plain": [
       "array([[ 25,  17],\n",
       "       [ 32, 123]], dtype=int64)"
      ]
     },
     "execution_count": 34,
     "metadata": {},
     "output_type": "execute_result"
    }
   ],
   "source": [
    "tab_rf = confusion_matrix(pred_rfc,cr.y_test)\n",
    "tab_rf"
   ]
  },
  {
   "cell_type": "code",
   "execution_count": 35,
   "metadata": {},
   "outputs": [
    {
     "data": {
      "text/plain": [
       "75.1269035532995"
      ]
     },
     "execution_count": 35,
     "metadata": {},
     "output_type": "execute_result"
    }
   ],
   "source": [
    "accuracy_rf = tab_rf.diagonal().sum() * 100 / tab_rf.sum()\n",
    "accuracy_rf"
   ]
  },
  {
   "cell_type": "code",
   "execution_count": 36,
   "metadata": {},
   "outputs": [
    {
     "data": {
      "text/html": [
       "<div>\n",
       "<style scoped>\n",
       "    .dataframe tbody tr th:only-of-type {\n",
       "        vertical-align: middle;\n",
       "    }\n",
       "\n",
       "    .dataframe tbody tr th {\n",
       "        vertical-align: top;\n",
       "    }\n",
       "\n",
       "    .dataframe thead th {\n",
       "        text-align: right;\n",
       "    }\n",
       "</style>\n",
       "<table border=\"1\" class=\"dataframe\">\n",
       "  <thead>\n",
       "    <tr style=\"text-align: right;\">\n",
       "      <th></th>\n",
       "      <th>Features</th>\n",
       "      <th>Importance</th>\n",
       "    </tr>\n",
       "  </thead>\n",
       "  <tbody>\n",
       "    <tr>\n",
       "      <th>8</th>\n",
       "      <td>Credit_History</td>\n",
       "      <td>0.268043</td>\n",
       "    </tr>\n",
       "    <tr>\n",
       "      <th>4</th>\n",
       "      <td>ApplicantIncome</td>\n",
       "      <td>0.213679</td>\n",
       "    </tr>\n",
       "    <tr>\n",
       "      <th>6</th>\n",
       "      <td>LoanAmount</td>\n",
       "      <td>0.194720</td>\n",
       "    </tr>\n",
       "    <tr>\n",
       "      <th>5</th>\n",
       "      <td>CoapplicantIncome</td>\n",
       "      <td>0.115537</td>\n",
       "    </tr>\n",
       "    <tr>\n",
       "      <th>7</th>\n",
       "      <td>Loan_Amount_Term</td>\n",
       "      <td>0.046959</td>\n",
       "    </tr>\n",
       "    <tr>\n",
       "      <th>1</th>\n",
       "      <td>Dependents</td>\n",
       "      <td>0.045530</td>\n",
       "    </tr>\n",
       "    <tr>\n",
       "      <th>9</th>\n",
       "      <td>Property_Area</td>\n",
       "      <td>0.043745</td>\n",
       "    </tr>\n",
       "    <tr>\n",
       "      <th>0</th>\n",
       "      <td>Married</td>\n",
       "      <td>0.028591</td>\n",
       "    </tr>\n",
       "    <tr>\n",
       "      <th>2</th>\n",
       "      <td>Education</td>\n",
       "      <td>0.022811</td>\n",
       "    </tr>\n",
       "    <tr>\n",
       "      <th>3</th>\n",
       "      <td>Self_Employed</td>\n",
       "      <td>0.020385</td>\n",
       "    </tr>\n",
       "  </tbody>\n",
       "</table>\n",
       "</div>"
      ],
      "text/plain": [
       "            Features  Importance\n",
       "8     Credit_History    0.268043\n",
       "4    ApplicantIncome    0.213679\n",
       "6         LoanAmount    0.194720\n",
       "5  CoapplicantIncome    0.115537\n",
       "7   Loan_Amount_Term    0.046959\n",
       "1         Dependents    0.045530\n",
       "9      Property_Area    0.043745\n",
       "0            Married    0.028591\n",
       "2          Education    0.022811\n",
       "3      Self_Employed    0.020385"
      ]
     },
     "execution_count": 36,
     "metadata": {},
     "output_type": "execute_result"
    }
   ],
   "source": [
    "imp_features_RF = pd.DataFrame({\"Features\" : cr.x_test.columns,\"Importance\": rfc.feature_importances_})\n",
    "imp_features_RF.sort_values(\"Importance\", ascending = False )"
   ]
  },
  {
   "cell_type": "code",
   "execution_count": 37,
   "metadata": {},
   "outputs": [],
   "source": [
    "# Adaptive Boosting "
   ]
  },
  {
   "cell_type": "code",
   "execution_count": 38,
   "metadata": {},
   "outputs": [
    {
     "name": "stderr",
     "output_type": "stream",
     "text": [
      "C:\\Users\\NIKIL\\anaconda3\\lib\\site-packages\\sklearn\\utils\\validation.py:67: FutureWarning: Pass n_estimators=10 as keyword args. From version 0.25 passing these as positional arguments will result in an error\n",
      "  warnings.warn(\"Pass {} as keyword args. From version 0.25 \"\n"
     ]
    }
   ],
   "source": [
    "from sklearn.ensemble import AdaBoostClassifier\n",
    "dt = DecisionTreeClassifier()\n",
    "abc = AdaBoostClassifier(dt,10)"
   ]
  },
  {
   "cell_type": "code",
   "execution_count": 39,
   "metadata": {},
   "outputs": [
    {
     "data": {
      "text/plain": [
       "AdaBoostClassifier(base_estimator=DecisionTreeClassifier(), n_estimators=10)"
      ]
     },
     "execution_count": 39,
     "metadata": {},
     "output_type": "execute_result"
    }
   ],
   "source": [
    "abc.fit(cr.x_train,cr.y_train)"
   ]
  },
  {
   "cell_type": "code",
   "execution_count": 40,
   "metadata": {},
   "outputs": [
    {
     "data": {
      "text/plain": [
       "array([[ 33,  27],\n",
       "       [ 24, 113]], dtype=int64)"
      ]
     },
     "execution_count": 40,
     "metadata": {},
     "output_type": "execute_result"
    }
   ],
   "source": [
    "pred_adaboost = abc.predict(cr.x_test)\n",
    "tab_adaboost = confusion_matrix(pred_adaboost,cr.y_test)\n",
    "tab_adaboost"
   ]
  },
  {
   "cell_type": "code",
   "execution_count": 41,
   "metadata": {},
   "outputs": [
    {
     "data": {
      "text/plain": [
       "0.7411167512690355"
      ]
     },
     "execution_count": 41,
     "metadata": {},
     "output_type": "execute_result"
    }
   ],
   "source": [
    "accuracy_adaboost = accuracy_score(pred_adaboost,cr.y_test)\n",
    "accuracy_adaboost"
   ]
  },
  {
   "cell_type": "code",
   "execution_count": 42,
   "metadata": {},
   "outputs": [],
   "source": [
    "# Naive Bayes \n"
   ]
  },
  {
   "cell_type": "code",
   "execution_count": 43,
   "metadata": {},
   "outputs": [],
   "source": [
    "from sklearn.naive_bayes import MultinomialNB\n",
    "nb = MultinomialNB()"
   ]
  },
  {
   "cell_type": "code",
   "execution_count": 44,
   "metadata": {},
   "outputs": [
    {
     "data": {
      "text/plain": [
       "MultinomialNB()"
      ]
     },
     "execution_count": 44,
     "metadata": {},
     "output_type": "execute_result"
    }
   ],
   "source": [
    "nb.fit(cr.x_train,cr.y_train)"
   ]
  },
  {
   "cell_type": "code",
   "execution_count": 46,
   "metadata": {},
   "outputs": [
    {
     "data": {
      "text/plain": [
       "array([[21, 75],\n",
       "       [36, 65]], dtype=int64)"
      ]
     },
     "execution_count": 46,
     "metadata": {},
     "output_type": "execute_result"
    }
   ],
   "source": [
    "pred_nb = nb.predict(cr.x_test)\n",
    "tab_nb = confusion_matrix(pred_nb,cr.y_test)\n",
    "tab_nb"
   ]
  },
  {
   "cell_type": "code",
   "execution_count": 48,
   "metadata": {},
   "outputs": [
    {
     "data": {
      "text/plain": [
       "43.65482233502538"
      ]
     },
     "execution_count": 48,
     "metadata": {},
     "output_type": "execute_result"
    }
   ],
   "source": [
    "acc_nb = tab_nb.diagonal().sum()* 100 / tab_nb.sum()\n",
    "acc_nb"
   ]
  },
  {
   "cell_type": "code",
   "execution_count": null,
   "metadata": {},
   "outputs": [],
   "source": []
  }
 ],
 "metadata": {
  "kernelspec": {
   "display_name": "Python 3",
   "language": "python",
   "name": "python3"
  },
  "language_info": {
   "codemirror_mode": {
    "name": "ipython",
    "version": 3
   },
   "file_extension": ".py",
   "mimetype": "text/x-python",
   "name": "python",
   "nbconvert_exporter": "python",
   "pygments_lexer": "ipython3",
   "version": "3.8.3"
  }
 },
 "nbformat": 4,
 "nbformat_minor": 4
}
